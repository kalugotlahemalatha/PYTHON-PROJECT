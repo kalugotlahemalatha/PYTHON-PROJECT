{
  "nbformat": 4,
  "nbformat_minor": 0,
  "metadata": {
    "colab": {
      "name": "NEW PROJECT",
      "provenance": []
    },
    "kernelspec": {
      "name": "python3",
      "display_name": "Python 3"
    }
  },
  "cells": [
    {
      "cell_type": "code",
      "metadata": {
        "id": "7dkQRaSzk-PE",
        "colab_type": "code",
        "colab": {}
      },
      "source": [
        "NEW PROJECT"
      ],
      "execution_count": 0,
      "outputs": []
    },
    {
      "cell_type": "markdown",
      "metadata": {
        "id": "K6dzMXqLk_15",
        "colab_type": "text"
      },
      "source": [
        "### project name(application name-contact app)\n",
        "### *add a contact detail\n",
        "### *search the contact details\n",
        "### * to delete the contact details"
      ]
    },
    {
      "cell_type": "code",
      "metadata": {
        "id": "rSj9ervhJuA1",
        "colab_type": "code",
        "colab": {}
      },
      "source": [
        "contact= {} ##Empty dic object is taken\n",
        "#lets create a function to add contact details\n",
        "\n",
        "def addcontact(name,phonenumber):\n",
        "    if name not in contact:\n",
        "        contact[name]=phonenumber\n",
        "        print(\"contact details sucessfully added \")\n",
        "    else:\n",
        "        print(\"name is already existing\")\n",
        "    return \n",
        "\n"
      ],
      "execution_count": 0,
      "outputs": []
    },
    {
      "cell_type": "code",
      "metadata": {
        "id": "53KshAXvPpTP",
        "colab_type": "code",
        "colab": {
          "base_uri": "https://localhost:8080/",
          "height": 67
        },
        "outputId": "43003739-1836-4298-94be-548ace780c8b"
      },
      "source": [
        "addcontact(\"hema\",\"6303411890\")\n",
        "addcontact(\"cherry\",\"4235715373\")\n",
        "addcontact(\"sai\",\"9701112232\")"
      ],
      "execution_count": 65,
      "outputs": [
        {
          "output_type": "stream",
          "text": [
            "contact details sucessfully added \n",
            "name is already existing\n",
            "name is already existing\n"
          ],
          "name": "stdout"
        }
      ]
    },
    {
      "cell_type": "code",
      "metadata": {
        "id": "bD6UqrySLLbP",
        "colab_type": "code",
        "colab": {
          "base_uri": "https://localhost:8080/",
          "height": 34
        },
        "outputId": "7d2a8356-6e22-44b7-c483-ceb9df90d119"
      },
      "source": [
        "contact"
      ],
      "execution_count": 41,
      "outputs": [
        {
          "output_type": "execute_result",
          "data": {
            "text/plain": [
              "{'cherry': '4235715373', 'hema': '6303411890', 'sai': '9701112232'}"
            ]
          },
          "metadata": {
            "tags": []
          },
          "execution_count": 41
        }
      ]
    },
    {
      "cell_type": "code",
      "metadata": {
        "id": "zugP-qTxRmne",
        "colab_type": "code",
        "colab": {
          "base_uri": "https://localhost:8080/",
          "height": 67
        },
        "outputId": "d27388bb-78a5-447b-be33-5696662ce5b5"
      },
      "source": [
        "def searchcontact(name):\n",
        "    if name not in contact:\n",
        "        print(name,\"contact doesnot exist\")\n",
        "    else:\n",
        "        print(name,\":\",contact[name])\n",
        "    return\n",
        "searchcontact(\"cherry\")\n",
        "searchcontact(\"sai\")\n",
        "searchcontact(\"hema\")"
      ],
      "execution_count": 66,
      "outputs": [
        {
          "output_type": "stream",
          "text": [
            "cherry : 5345472684\n",
            "sai : 5345472684\n",
            "hema : 6303411890\n"
          ],
          "name": "stdout"
        }
      ]
    },
    {
      "cell_type": "code",
      "metadata": {
        "id": "lefjV3VRTxfD",
        "colab_type": "code",
        "colab": {
          "base_uri": "https://localhost:8080/",
          "height": 67
        },
        "outputId": "750e97c4-8911-4dcf-da98-c9c18cd85f74"
      },
      "source": [
        "def modify(name,phonenumber):\n",
        "    if name not in contact:\n",
        "        print(name,\"contact doesnot exist\")\n",
        "    else:\n",
        "        contact.update({name:phonenumber})\n",
        "        print(name,\":\",contact[name])\n",
        "    return\n",
        "modify(\"hema\",\"5345472684\")\n",
        "modify(\"sai\",\"5345472684\")\n",
        "modify(\"cherry\",\"5345472684\")"
      ],
      "execution_count": 67,
      "outputs": [
        {
          "output_type": "stream",
          "text": [
            "hema : 5345472684\n",
            "sai : 5345472684\n",
            "cherry : 5345472684\n"
          ],
          "name": "stdout"
        }
      ]
    },
    {
      "cell_type": "code",
      "metadata": {
        "id": "rb2o6YudXCnX",
        "colab_type": "code",
        "colab": {
          "base_uri": "https://localhost:8080/",
          "height": 34
        },
        "outputId": "3936ec9e-fccc-4f3d-e799-7e30f1b130b7"
      },
      "source": [
        "def deletecontact(name):\n",
        "    if name not in contact:\n",
        "        print(name,\"conact doesnot existing\")\n",
        "    else:\n",
        "        contact.pop(name)\n",
        "        print(\"deleted sucessfully\")\n",
        "    return\n",
        "deletecontact(\"hema\")"
      ],
      "execution_count": 68,
      "outputs": [
        {
          "output_type": "stream",
          "text": [
            "deleted sucessfully\n"
          ],
          "name": "stdout"
        }
      ]
    }
  ]
}